{
 "cells": [
  {
   "cell_type": "markdown",
   "metadata": {},
   "source": [
    "# P3: Behavior Cloning"
   ]
  },
  {
   "cell_type": "code",
   "execution_count": 1,
   "metadata": {
    "collapsed": false
   },
   "outputs": [
    {
     "name": "stderr",
     "output_type": "stream",
     "text": [
      "Using TensorFlow backend.\n"
     ]
    }
   ],
   "source": [
    "import numpy as np\n",
    "import keras\n",
    "import matplotlib.pyplot as plt\n",
    "import csv\n",
    "import cv2\n",
    "import sklearn\n",
    "from sklearn.model_selection import train_test_split\n",
    "from sklearn.utils import shuffle\n",
    "from keras.models import *\n",
    "from keras.layers import *\n",
    "from keras.optimizers import Adam\n",
    "%matplotlib inline"
   ]
  },
  {
   "cell_type": "markdown",
   "metadata": {},
   "source": [
    "## 1. Load training data"
   ]
  },
  {
   "cell_type": "markdown",
   "metadata": {},
   "source": [
    "I'm using the training data provided instead of using my own, since I find it difficult to control the car using keyboard, and I don't have a game controller."
   ]
  },
  {
   "cell_type": "code",
   "execution_count": 2,
   "metadata": {
    "collapsed": true
   },
   "outputs": [],
   "source": [
    "# read data from csv file\n",
    "\n",
    "samples = []\n",
    "with open('data/driving_log.csv','rt') as f:\n",
    "    reader = csv.reader(f)\n",
    "    for line in reader:\n",
    "        samples.append(line)\n",
    "labels = samples.pop(0)"
   ]
  },
  {
   "cell_type": "markdown",
   "metadata": {},
   "source": [
    "### 1.1 Data visualisation"
   ]
  },
  {
   "cell_type": "code",
   "execution_count": 3,
   "metadata": {
    "collapsed": false,
    "scrolled": false
   },
   "outputs": [
    {
     "data": {
      "image/png": "[encoded data removed]",
      "text/plain": [
       "<matplotlib.figure.Figure at 0x11efec048>"
      ]
     },
     "metadata": {},
     "output_type": "display_data"
    },
    {
     "name": "stdout",
     "output_type": "stream",
     "text": [
      "[  0.00000000e+00   0.00000000e+00   0.00000000e+00   0.00000000e+00\n",
      "   4.00000000e+00   1.00000000e+00   4.00000000e+00   4.00000000e+00\n",
      "   5.50000000e+01   9.60000000e+01   3.24000000e+02   8.31000000e+02\n",
      "   5.18600000e+03   1.07100000e+03   2.26000000e+02   1.82000000e+02\n",
      "   3.80000000e+01   1.10000000e+01   1.00000000e+00   0.00000000e+00\n",
      "   2.00000000e+00   0.00000000e+00   0.00000000e+00   0.00000000e+00\n",
      "   0.00000000e+00]\n"
     ]
    }
   ],
   "source": [
    "# extract steering angles and plot histogram\n",
    "\n",
    "steering_angles = [float(samples[i][3]) for i in range(len(samples))]\n",
    "n_bins = 25\n",
    "\n",
    "fig = plt.figure()\n",
    "ax = fig.add_subplot(111)\n",
    "(n, bins, patches) = ax.hist(steering_angles,n_bins, range = (-1.5,1.5), rwidth = 0.8)\n",
    "plt.show()\n",
    "\n",
    "print(n)"
   ]
  },
  {
   "cell_type": "markdown",
   "metadata": {},
   "source": [
    "As can be seen from the above histogram, the steering angles in the provided training data are extremely concentrated around zero, and slightly skewed towards positive values. If we train using this data as it is, the car driven by trained model might not be able to steer through sharp turns, and even moderate turns towards the right (because of skew towards left).\n",
    "Therefore we augment the data next to spread the steering angles, and make it symmetric."
   ]
  },
  {
   "cell_type": "markdown",
   "metadata": {},
   "source": [
    "## 2. Data Augmentation"
   ]
  },
  {
   "cell_type": "markdown",
   "metadata": {},
   "source": [
    "Data is augmented using two techniques: \n",
    "- First is using the left and right images, and using a correction factor for the steering angle so that these images can be effectively treated as center images.\n",
    "- Second is left-right flipping of the images, while inverting the steering angle. Image flipping also removes the bias of steering angles towards one direction. Note that the actual image flipping will be done when we read the images using `generator`, but here we just invert the angle and add a tag to indicate if the image needs to be flipped or not. "
   ]
  },
  {
   "cell_type": "code",
   "execution_count": 4,
   "metadata": {
    "collapsed": false
   },
   "outputs": [],
   "source": [
    "# data augmentation\n",
    "\n",
    "augmented_samples = []\n",
    "\n",
    "# correction factor for using left and right image\n",
    "correction = 0.2\n",
    "\n",
    "for i in range(len(samples)):\n",
    "    \n",
    "    # image flipping will be done while reading image data in generator\n",
    "    # here, only the angle is flipped, and a tag is added\n",
    "    \n",
    "    for flipped in [-1,1]:\n",
    "        \n",
    "        # center image\n",
    "        augmented_samples.append([samples[i][0], flipped*float(samples[i][3]), flipped])\n",
    "        \n",
    "        # left image\n",
    "        augmented_samples.append([samples[i][1], flipped*(float(samples[i][3])+correction), flipped])\n",
    "        \n",
    "        # right image\n",
    "        augmented_samples.append([samples[i][2], flipped*(float(samples[i][3])- correction), flipped])\n",
    "    "
   ]
  },
  {
   "cell_type": "markdown",
   "metadata": {},
   "source": [
    "### 2.1 Visualisation of Augmented Data"
   ]
  },
  {
   "cell_type": "code",
   "execution_count": 5,
   "metadata": {
    "collapsed": false
   },
   "outputs": [
    {
     "data": {
      "image/png": "[encoded data removed]",
      "text/plain": [
       "<matplotlib.figure.Figure at 0x11f016fd0>"
      ]
     },
     "metadata": {},
     "output_type": "display_data"
    },
    {
     "name": "stdout",
     "output_type": "stream",
     "text": [
      "[  0.00000000e+00   0.00000000e+00   4.00000000e+00   2.00000000e+00\n",
      "   1.00000000e+01   1.70000000e+01   5.70000000e+01   2.33000000e+02\n",
      "   5.73000000e+02   1.65900000e+03   1.11550000e+04   4.11900000e+03\n",
      "   1.25580000e+04   4.11900000e+03   1.11550000e+04   1.65900000e+03\n",
      "   5.73000000e+02   2.33000000e+02   5.70000000e+01   1.70000000e+01\n",
      "   1.00000000e+01   2.00000000e+00   4.00000000e+00   0.00000000e+00\n",
      "   0.00000000e+00]\n"
     ]
    }
   ],
   "source": [
    "# plot histogram of steering angles after data augmentation\n",
    "\n",
    "augmented_angles = [augmented_samples[i][1] for i in range(len(augmented_samples))]\n",
    "n_bins = 25\n",
    "\n",
    "fig = plt.figure()\n",
    "ax = fig.add_subplot(111)\n",
    "(n, bins, patches) = ax.hist(augmented_angles,n_bins, range = (-1.5,1.5), rwidth = 0.8)\n",
    "plt.show()\n",
    "\n",
    "print(n)"
   ]
  },
  {
   "cell_type": "markdown",
   "metadata": {},
   "source": [
    "After data augmentation, the histogram for steering angles has clearly become more spread out, and completely symmetric."
   ]
  },
  {
   "cell_type": "markdown",
   "metadata": {},
   "source": [
    "## 3. Split Augmented Data into Training and Validation Sets"
   ]
  },
  {
   "cell_type": "code",
   "execution_count": 6,
   "metadata": {
    "collapsed": false,
    "scrolled": true
   },
   "outputs": [
    {
     "name": "stdout",
     "output_type": "stream",
     "text": [
      "Size of validation set is: 4822\n"
     ]
    }
   ],
   "source": [
    "shuffle(augmented_samples, random_state = 12)\n",
    "training_samples, validation_samples = train_test_split(augmented_samples, test_size=0.1, random_state = 12)\n",
    "print(\"Size of validation set is: \" + str(len(validation_samples)))"
   ]
  },
  {
   "cell_type": "markdown",
   "metadata": {},
   "source": [
    "I use a relatively small `test_size` of 0.1, since even this small percentage results in around 5000 samples for validation, and also because I want to loose as few samples as possible for large steering angles - samples which are too few even after data augmentation.  "
   ]
  },
  {
   "cell_type": "markdown",
   "metadata": {},
   "source": [
    "## 4. Image Preprocessing"
   ]
  },
  {
   "cell_type": "markdown",
   "metadata": {},
   "source": [
    "For image preprocessing before training, I first downscale the image to (64,32) size, and then take only the H and S channels since these channels are the most useful for lane finding, and by removing the V channel, we eliminate the impact of brightness. We also crop the image to remove the unnecessary top (sky) and bottom (bonnet) pixels, and finally normalize so that all the values are between 0.5 and -0.5."
   ]
  },
  {
   "cell_type": "code",
   "execution_count": 7,
   "metadata": {
    "collapsed": true
   },
   "outputs": [],
   "source": [
    "def image_preprocessing(img):\n",
    "    \n",
    "    # downscale the image\n",
    "    image = cv2.resize(img, (64, 32))\n",
    "    \n",
    "    # convert to HSV\n",
    "    image = cv2.cvtColor(image, cv2.COLOR_BGR2HSV)\n",
    "       \n",
    "    # crop image and retain only H and S channels\n",
    "    image = image[8:28,:,:2]\n",
    "    \n",
    "    # normalize\n",
    "    image = image / 255. - 0.5\n",
    "    image = np.array(image)\n",
    "    \n",
    "    return image"
   ]
  },
  {
   "cell_type": "markdown",
   "metadata": {},
   "source": [
    "### 4.1 Image visualisation before and after preprocessing"
   ]
  },
  {
   "cell_type": "markdown",
   "metadata": {},
   "source": [
    "Since I did not find a way to visualise an image having two channels - H and S, I will visualise the preprocessed images when only one of two channels is retained. "
   ]
  },
  {
   "cell_type": "code",
   "execution_count": 8,
   "metadata": {
    "collapsed": false,
    "scrolled": true
   },
   "outputs": [
    {
     "data": {
      "text/plain": [
       "<matplotlib.image.AxesImage at 0x12173df98>"
      ]
     },
     "execution_count": 8,
     "metadata": {},
     "output_type": "execute_result"
    },
    {
     "data": {
      "image/png": "[encoded data removed]",
      "text/plain": [
       "<matplotlib.figure.Figure at 0x12177f908>"
      ]
     },
     "metadata": {},
     "output_type": "display_data"
    }
   ],
   "source": [
    "# image visualisation after preprocessing (separate visualisation of H and S channels)\n",
    "\n",
    "# choose a random image\n",
    "rand = np.random.randint(len(training_samples))\n",
    "path_file = training_samples[rand][0]\n",
    "img = cv2.imread(path_file.strip())\n",
    "\n",
    "# H channel\n",
    "h_image = np.array(((cv2.cvtColor(cv2.resize(img,(64,32)), cv2.COLOR_RGB2HSV))[8:28,:,0])/255. - 0.5)\n",
    "\n",
    "# S channel\n",
    "s_image = np.array(((cv2.cvtColor(cv2.resize(img,(64,32)), cv2.COLOR_RGB2HSV))[8:28,:,1])/255. - 0.5)\n",
    "\n",
    "plt.subplot(3,1,1)\n",
    "plt.imshow(img)\n",
    "plt.subplot(3,1,2)\n",
    "plt.imshow(s_image, cmap = 'gray')\n",
    "plt.subplot(3,1,3)\n",
    "plt.imshow(h_image, cmap = 'gray')"
   ]
  },
  {
   "cell_type": "markdown",
   "metadata": {},
   "source": [
    "## 5. Generator for Batches of Training and Validation Samples"
   ]
  },
  {
   "cell_type": "markdown",
   "metadata": {},
   "source": [
    "Since loading all the training images into memory simultaneously would require huge memory, I define a generator to load images simultaneously only for batches of training and validation sets."
   ]
  },
  {
   "cell_type": "code",
   "execution_count": 9,
   "metadata": {
    "collapsed": true
   },
   "outputs": [],
   "source": [
    "def X_generator(samples, batch_size=32):\n",
    "    \n",
    "    num_samples = len(samples)\n",
    "    \n",
    "    while 1: # Loop forever so the generator never terminates     \n",
    "        \n",
    "        shuffle(samples, random_state = 12)\n",
    "        \n",
    "        for offset in range(0, num_samples, batch_size):\n",
    "            \n",
    "            batch_samples = samples[offset:offset+batch_size]\n",
    "            \n",
    "            images = []\n",
    "            angles = []\n",
    "            \n",
    "            for batch_sample in batch_samples:\n",
    "                \n",
    "                # Read image using the file path\n",
    "                image = cv2.imread(batch_sample[0].strip())\n",
    "                \n",
    "                # Flip the image, if the tag is -1                \n",
    "                if batch_sample[2] == -1:\n",
    "                    image = cv2.flip(image, 1)\n",
    "                    \n",
    "                # Preprocess image\n",
    "                image = image_preprocessing(image)\n",
    "                                \n",
    "                # Read the corresponding steering angle\n",
    "                angle = batch_sample[1]\n",
    "                \n",
    "                images.append(image)\n",
    "                angles.append(angle)\n",
    "\n",
    "            X = np.array(images)\n",
    "            y = np.array(angles)\n",
    "            \n",
    "            yield (X, y)"
   ]
  },
  {
   "cell_type": "code",
   "execution_count": 10,
   "metadata": {
    "collapsed": false,
    "scrolled": true
   },
   "outputs": [],
   "source": [
    "# Initialise the training and validation generators\n",
    "\n",
    "train_generator = X_generator(training_samples, batch_size=256)\n",
    "validation_generator = X_generator(validation_samples, batch_size=256)"
   ]
  },
  {
   "cell_type": "markdown",
   "metadata": {},
   "source": [
    "## 6. Neural Network Model"
   ]
  },
  {
   "cell_type": "markdown",
   "metadata": {},
   "source": [
    "I started with the LeNet architecture, which resulted in a model which could not successfully drive the car. Even though the image preprocessing step has fairly simplified and reduced the size of input, the reason for poor performance might be that the number of parameters are too large to generalise well using the given training data. Therefore, instead of trying the more complicated network like that proposed by NVIDIA for real cars, I decided to trim the network to reduce the number of parameters. The resulting network consists of one convolution layer (same as the one from LeNet architecture), followed by MaxPooling (as in LeNet) and Dropout (not present in LeNet) layers to prevent overfitting, and finally one small fully connected layer (size drastically reduced compared to LeNet)."
   ]
  },
  {
   "cell_type": "code",
   "execution_count": 11,
   "metadata": {
    "collapsed": true
   },
   "outputs": [],
   "source": [
    "def LeNet_mod(inp_shape):\n",
    "\n",
    "    model = Sequential()\n",
    "    \n",
    "    # Convolution layer of 6 filters of size (5, 5) followed by Maxpooling layer - same as LeNet architecture\n",
    "    model.add(Conv2D(6, 5, 5, border_mode='valid',input_shape=inp_shape, activation='relu'))\n",
    "    model.add(MaxPooling2D())\n",
    "    \n",
    "    # Additional dropout layer to prevent overfitting\n",
    "    model.add(Dropout(0.25))    \n",
    "\n",
    "    model.add(Flatten())\n",
    "\n",
    "    # Fully connected layer with reduced size compared to LeNet\n",
    "    model.add(Dense(4, activation='relu'))   \n",
    "\n",
    "    model.add(Dense(1))\n",
    "    \n",
    "    return model"
   ]
  },
  {
   "cell_type": "code",
   "execution_count": 12,
   "metadata": {
    "collapsed": false
   },
   "outputs": [],
   "source": [
    "# Initialise the model for training\n",
    "\n",
    "model = LeNet_mod((20, 64, 2))"
   ]
  },
  {
   "cell_type": "code",
   "execution_count": 13,
   "metadata": {
    "collapsed": false,
    "scrolled": true
   },
   "outputs": [
    {
     "name": "stdout",
     "output_type": "stream",
     "text": [
      "____________________________________________________________________________________________________\n",
      "Layer (type)                     Output Shape          Param #     Connected to                     \n",
      "====================================================================================================\n",
      "convolution2d_1 (Convolution2D)  (None, 16, 60, 6)     306         convolution2d_input_1[0][0]      \n",
      "____________________________________________________________________________________________________\n",
      "maxpooling2d_1 (MaxPooling2D)    (None, 8, 30, 6)      0           convolution2d_1[0][0]            \n",
      "____________________________________________________________________________________________________\n",
      "dropout_1 (Dropout)              (None, 8, 30, 6)      0           maxpooling2d_1[0][0]             \n",
      "____________________________________________________________________________________________________\n",
      "flatten_1 (Flatten)              (None, 1440)          0           dropout_1[0][0]                  \n",
      "____________________________________________________________________________________________________\n",
      "dense_1 (Dense)                  (None, 4)             5764        flatten_1[0][0]                  \n",
      "____________________________________________________________________________________________________\n",
      "dense_2 (Dense)                  (None, 1)             5           dense_1[0][0]                    \n",
      "====================================================================================================\n",
      "Total params: 6,075\n",
      "Trainable params: 6,075\n",
      "Non-trainable params: 0\n",
      "____________________________________________________________________________________________________\n"
     ]
    }
   ],
   "source": [
    "model.summary()"
   ]
  },
  {
   "cell_type": "markdown",
   "metadata": {},
   "source": [
    "## 7. Training the Neural Network Model"
   ]
  },
  {
   "cell_type": "code",
   "execution_count": 14,
   "metadata": {
    "collapsed": false,
    "scrolled": false
   },
   "outputs": [
    {
     "name": "stdout",
     "output_type": "stream",
     "text": [
      "Epoch 1/20\n",
      "43394/43394 [==============================] - 119s - loss: 0.0479 - val_loss: 0.0430\n",
      "Epoch 2/20\n",
      "43394/43394 [==============================] - 105s - loss: 0.0358 - val_loss: 0.0213\n",
      "Epoch 3/20\n",
      "43394/43394 [==============================] - 101s - loss: 0.0213 - val_loss: 0.0185\n",
      "Epoch 4/20\n",
      "43394/43394 [==============================] - 103s - loss: 0.0194 - val_loss: 0.0177\n",
      "Epoch 5/20\n",
      "43394/43394 [==============================] - 97s - loss: 0.0187 - val_loss: 0.0173\n",
      "Epoch 6/20\n",
      "43394/43394 [==============================] - 83s - loss: 0.0182 - val_loss: 0.0168\n",
      "Epoch 7/20\n",
      "43394/43394 [==============================] - 101s - loss: 0.0178 - val_loss: 0.0164\n",
      "Epoch 8/20\n",
      "43394/43394 [==============================] - 111s - loss: 0.0175 - val_loss: 0.0162\n",
      "Epoch 9/20\n",
      "43394/43394 [==============================] - 101s - loss: 0.0174 - val_loss: 0.0160\n",
      "Epoch 10/20\n",
      "43394/43394 [==============================] - 105s - loss: 0.0171 - val_loss: 0.0159\n",
      "Epoch 11/20\n",
      "43394/43394 [==============================] - 105s - loss: 0.0170 - val_loss: 0.0158\n",
      "Epoch 12/20\n",
      "43394/43394 [==============================] - 95s - loss: 0.0169 - val_loss: 0.0157\n",
      "Epoch 13/20\n",
      "43394/43394 [==============================] - 86s - loss: 0.0166 - val_loss: 0.0156\n",
      "Epoch 14/20\n",
      "43394/43394 [==============================] - 95s - loss: 0.0166 - val_loss: 0.0156\n",
      "Epoch 15/20\n",
      "43394/43394 [==============================] - 99s - loss: 0.0165 - val_loss: 0.0155\n",
      "Epoch 16/20\n",
      "43394/43394 [==============================] - 101s - loss: 0.0163 - val_loss: 0.0154\n",
      "Epoch 17/20\n",
      "43394/43394 [==============================] - 98s - loss: 0.0163 - val_loss: 0.0153\n",
      "Epoch 18/20\n",
      "43394/43394 [==============================] - 98s - loss: 0.0161 - val_loss: 0.0152\n",
      "Epoch 19/20\n",
      "43394/43394 [==============================] - 99s - loss: 0.0161 - val_loss: 0.0151\n",
      "Epoch 20/20\n",
      "43394/43394 [==============================] - 100s - loss: 0.0159 - val_loss: 0.0149\n"
     ]
    }
   ],
   "source": [
    "# Use the Adam optimizer and MSE as the loss function \n",
    "\n",
    "model.compile(loss='mse', optimizer='adam')\n",
    "history_object = model.fit_generator(train_generator, samples_per_epoch= len(training_samples), validation_data=validation_generator, nb_val_samples=len(validation_samples), nb_epoch=20)"
   ]
  },
  {
   "cell_type": "markdown",
   "metadata": {},
   "source": [
    "### 7.1 Plot the Training and Validation Loss"
   ]
  },
  {
   "cell_type": "code",
   "execution_count": 15,
   "metadata": {
    "collapsed": false,
    "scrolled": true
   },
   "outputs": [
    {
     "data": {
      "image/png": "[encoded data removed]",
      "text/plain": [
       "<matplotlib.figure.Figure at 0x121dfccc0>"
      ]
     },
     "metadata": {},
     "output_type": "display_data"
    }
   ],
   "source": [
    "### plot the training and validation loss for each epoch\n",
    "\n",
    "plt.plot(history_object.history['loss'])\n",
    "plt.plot(history_object.history['val_loss'])\n",
    "plt.title('model mean squared error loss')\n",
    "plt.ylabel('mean squared error loss')\n",
    "plt.xlabel('epoch')\n",
    "plt.legend(['training set', 'validation set'], loc='upper right')\n",
    "plt.show()"
   ]
  },
  {
   "cell_type": "markdown",
   "metadata": {},
   "source": [
    "I used number of epochs to be 20 to get clearer trends in the plot of training and validation loss, but from the plot, it is clear that even taking number of epochs to be 5 should be sufficient to train the model to successfully drive the car."
   ]
  },
  {
   "cell_type": "markdown",
   "metadata": {},
   "source": [
    "### 7.2 Saving the Trained Model"
   ]
  },
  {
   "cell_type": "code",
   "execution_count": 16,
   "metadata": {
    "collapsed": false
   },
   "outputs": [
    {
     "name": "stdout",
     "output_type": "stream",
     "text": [
      "Model saved.\n"
     ]
    }
   ],
   "source": [
    "model.save(\"model.h5\")\n",
    "print(\"Model saved.\")"
   ]
  },
  {
   "cell_type": "markdown",
   "metadata": {
    "collapsed": true
   },
   "source": [
    "## Testing the Trained Model"
   ]
  },
  {
   "cell_type": "markdown",
   "metadata": {},
   "source": [
    "For testing, I consider only Track 1, since I don't have (and cannot generate due to lack of game controller) training data for Track 2. A model passes the test if it can successfully drive the car for a few laps on Track 1. \n",
    "\n",
    "LeNet architecture and most of its modifications that I tried faltered at one or other point of the Track, sometimes on the second or third lap. However, the architecture presented here did well for indefinite time. \n",
    "\n",
    "I also tried to tune the correction factor for left and right images. Correction of 0.3 also worked, but resulted in more wobbly trajectory, while correction of 0.1 resulted in car unable to negotiate sharp turns. Therefore, I decided to stick with the correction suggested in the project guidelines, that is, 0.2. \n",
    "\n",
    "The run I recorded for this architecture is saved in video.mp4.\n",
    "\n",
    "Also note that the file drive.py has been modify to appropriately preprocess the image before feeding into the model."
   ]
  }
 ],
 "metadata": {
  "anaconda-cloud": {},
  "kernelspec": {
   "display_name": "Python [conda env:carnd-term1]",
   "language": "python",
   "name": "conda-env-carnd-term1-py"
  },
  "language_info": {
   "codemirror_mode": {
    "name": "ipython",
    "version": 3
   },
   "file_extension": ".py",
   "mimetype": "text/x-python",
   "name": "python",
   "nbconvert_exporter": "python",
   "pygments_lexer": "ipython3",
   "version": "3.5.2"
  }
 },
 "nbformat": 4,
 "nbformat_minor": 1
}
