{
 "cells": [
  {
   "cell_type": "markdown",
   "metadata": {},
   "source": [
    "# Self-driving Car Nanodegree\n",
    "\n",
    "## Project: PID Controller"
   ]
  },
  {
   "cell_type": "markdown",
   "metadata": {},
   "source": [
    "### Reflections"
   ]
  },
  {
   "cell_type": "markdown",
   "metadata": {},
   "source": [
    "Steering angle of the vehicle in the simulator is controlled using a PID controller, whose parameters are tuned using Twiddle algorithm discussed in the class. The input to the controller is \"cte\" value obtained from the simulator as the car moves on the track. This input is fed into the Twiddle algorithm in the form of consecutive batches of a fixed sample size. "
   ]
  },
  {
   "cell_type": "markdown",
   "metadata": {},
   "source": [
    "Besides the steering algorithm, the throttle is also controlled using a quasi-proportional controller whose input is the \"cte\" value as well the steering angle. The parameters of this throttle controller are manually and crudely fixed."
   ]
  },
  {
   "cell_type": "markdown",
   "metadata": {},
   "source": [
    "Below are a few interesting observations regarding the tuning process:"
   ]
  },
  {
   "cell_type": "markdown",
   "metadata": {},
   "source": [
    "#### PID parameters - Kp, Ki, Kd"
   ]
  },
  {
   "cell_type": "markdown",
   "metadata": {},
   "source": [
    "The twiddle algorithm in this case turns out to be very sensitive to the initialization of the search space, that is, the initial [dKp, dKi, dKd], as well as to the initial input to the vehicle in the simulator. This is probably because the batches for tuning the algorithm are themselves dependent on the initial conditions. Therefore, the initial choice of [dKp, dKi, dKd] and throttle should be reasonable to allow the vehicle to stay on the track during the initial tuning phase, and therefore, generate data for further tuning. \"dKp = 0.1\", \"dKi = 0.0001\" and \"dKd = 1.0\" is one such choice. "
   ]
  },
  {
   "cell_type": "markdown",
   "metadata": {},
   "source": [
    "The integral parameter, Ki, is not particularly amenable to tuning in this project. In fact, it is not straightforward to define the integral error here. I tried two methods:\n",
    "- Once the \"cti\" value from simulator changes signs, I discard the previous sum of \"cti\" values and start summing anew until the next change of signs.\n",
    "- Alternatively, I heavily weigh the more recent \"cti\" values in the sum.\n",
    "\n",
    "Even though in both the cases, the tuned controller had a reasonable performance, it had a somewhat delayed response. Since the simulator doesn't seem to have a system bias, I would prefer to ignore the integral error altogether. To take it into account, \"integral_control\" variable in the PID class should be set to \"true\"."
   ]
  },
  {
   "cell_type": "markdown",
   "metadata": {},
   "source": [
    "#### Hyperparameter \"sample_size\""
   ]
  },
  {
   "cell_type": "markdown",
   "metadata": {},
   "source": [
    "The size of the batch over which the algorithm observes the performance of a particular set of PID parameters turns out to be a crucial hyperparameter. If the batch size is too small, the average error generated over this batch may not be an accurate estimate of the performance of the PID parameters set. If the batch size is too large, sub-optimal set of parameters will control the car for too long a time and might end up derailing it. \n",
    "For this project, the batch size of 100 works well. "
   ]
  },
  {
   "cell_type": "markdown",
   "metadata": {},
   "source": [
    "#### Possible improvements"
   ]
  },
  {
   "cell_type": "markdown",
   "metadata": {},
   "source": [
    "- *Exploration-exploitation:* Once the controller has been tuned to the extent that it keeps the car on track below a certain speed threshold, further tuning can be done by collecting samples for the batch non-consecutively over many short random intervals. This would enable having a large batch size to accurately estimate the performance of a set of PID parameters, without the fear of having the car go off-track.\n",
    "- *Performance evaluation under similar conditions:* If possible, performace of different sets of PID parameters should be compared over the same length of track, with the same initial conditions."
   ]
  }
 ],
 "metadata": {
  "kernelspec": {
   "display_name": "Python 3",
   "language": "python",
   "name": "python3"
  },
  "language_info": {
   "codemirror_mode": {
    "name": "ipython",
    "version": 3
   },
   "file_extension": ".py",
   "mimetype": "text/x-python",
   "name": "python",
   "nbconvert_exporter": "python",
   "pygments_lexer": "ipython3",
   "version": "3.6.3"
  }
 },
 "nbformat": 4,
 "nbformat_minor": 2
}
