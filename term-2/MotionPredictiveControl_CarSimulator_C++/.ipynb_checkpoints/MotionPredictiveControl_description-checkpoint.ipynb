{
 "cells": [
  {
   "cell_type": "markdown",
   "metadata": {},
   "source": [
    "# Self-driving Car Nanodegree\n",
    "\n",
    "## Project: Model Predictive Control"
   ]
  },
  {
   "cell_type": "markdown",
   "metadata": {},
   "source": [
    "### Model"
   ]
  },
  {
   "cell_type": "markdown",
   "metadata": {},
   "source": [
    "#### State of the car:\n",
    "Car's state at a given time consists of:\n",
    "- spatial position $(px, py)$,\n",
    "- axle orientation $\\psi$,\n",
    "- speed $v$.\n",
    "\n",
    "The values of the first two components depend on the choice of a stationary coordinate system. \n",
    "\n",
    "#### Actuators:\n",
    "The state of the car is controlled using two actuator inputs, which are constrained to have values between $-1.0$ and $1.0$:\n",
    "- throttle, $a$,\n",
    "- steering, $-\\delta$.\n",
    "\n",
    "#### Update equations:\n",
    "Given the current state of the car and the actuator inputs, the state of the car after time $dt$ is predicted by assuming the kinematic model discussed in the lectures. This model implies the following updates for the state of the car: \n",
    "\n",
    "$$px \\leftarrow px + v*cos(\\psi)* dt$$\n",
    "$$py \\leftarrow py + v*sin(\\psi)* dt$$\n",
    "$$\\psi \\leftarrow \\psi + \\frac{v}{L_f}*\\delta* dt$$\n",
    "$$v \\leftarrow v + a* dt$$\n"
   ]
  },
  {
   "cell_type": "markdown",
   "metadata": {},
   "source": [
    "### Control"
   ]
  },
  {
   "cell_type": "markdown",
   "metadata": {},
   "source": [
    "Assuming the above model and a reference trajectory, the goal is to find the best actuator inputs to control the state of the car so that the car stays as close and as aligned as possible to the reference trajectory. In other words, the following errors must be as close as possible to 0:\n",
    "- cross-track error, *$cte$*: shortest distance from the car to the reference trajectory,\n",
    "- orientation error, *$e\\psi$*: angle between car's axle and the reference trajectory.\n",
    "\n",
    "Remark that the kinematic model described above implies that these errors evolve as follows:\n",
    "\n",
    "$$cte \\leftarrow cte + v*sin(e\\psi)* dt$$\n",
    "$$e\\psi \\leftarrow e\\psi + \\frac{v}{L_f}*\\delta* dt$$\n",
    "\n",
    "\n",
    "To address the control problem, the state of the car is predicted over a certain time in future, $T$, by assuming a set of actuator inputs applied $N$ times at time intervals of length $dt$, and the predicted state-trajectory is assigned a cost function which takes into account \n",
    "- the cross-track and orientation errors:\n",
    "$$C_{cte} = \\sum_{i=0}^{N-1} (cte_i)^2,\\quad C_{e\\psi} = \\sum_{i=0}^{N-1} (e\\psi_i)^2,$$ \n",
    "\n",
    "- deviations from a reference speed, $v_{ref}$: \n",
    "$$C_{v} = \\sum_{i=0}^{N-1} (v_i - v_{ref})^2,$$\n",
    "\n",
    "- and moderation of \n",
    " - actuator inputs:\n",
    "$$C_{a} = \\sum_{i=0}^{N-1} (a_i)^2, \\quad C_{\\delta} = \\sum_{i=0}^{N-1} (\\delta_i)^2$$\n",
    "\n",
    " - and their transitions:\n",
    "$$C_{diff_a} = \\sum_{i=0}^{N-2} (a_{i+1} - a_i)^2, \\quad C_{diff_{\\delta}} = \\sum_{i=0}^{N-2} (\\delta_{i+1}-\\delta_i)^2$$\n",
    "\n",
    "Additionaly, a regularization term, $\\lambda$, is used to emphasize or de-emphasize the contribution of the different cost components to the total cost. \n",
    "\n",
    "$$C = C_{cte} + C_{e\\psi} + \\lambda*C_{diff_{\\delta}} + \\frac{1}{\\lambda}(C_{v} + C_{a} + C_{\\delta} + C_{diff_a}) $$ \n",
    "\n",
    "\n",
    "The control problem now reduces to finding the optimal set of actuator inputs so as to minimize the above cost function, subject to the constraints on the actuator inputs. The optimal actuator inputs thus obtained for the first step are then passed on to control the car in the current moment.\n",
    "\n",
    "#### Regularization term ($\\lambda$)\n",
    "To prevent the car from wobbling, it is particularly important to emphasize the cost associated with steering transition, $C_{diff_{\\delta}}$. However, it is also important not to over-emphasize this cost component, so that the large steering transitions remain possible at sharp turns. \n",
    "\n",
    "$\\lambda = 10.0$ works well in this project.\n",
    "\n",
    " \n",
    "\n",
    "#### Timestep Length and Elapsed Duration (N & dt)\n",
    "Remark that $T = N*dt$. \n",
    "\n",
    "Suppose that the reference trajectory is given by the simulator for a distance, $d$, which can be small near turns and large along straight paths. Assuming an average speed of around $v_{ref}$, this imposes a natural upper limit on $T$ of around $\\frac{d}{v_{ref}}$. This upper limit in the current project is manually estimated to be around $1.5$.\n",
    "\n",
    "At the same time, it is important that $T$ is large enough so that the current actuator inputs are sufficiently forward-looking to anticipate the future curvature of the road. A reasonable lower limit here would be $0.5$. \n",
    "\n",
    "Now, $N$ and $dt$ could be tuned for this range of $T$. A smaller $dt$ means more frequent actuations, and therefore more flexibility to approximate the reference trajectory with desirable speed and actuator attributes. However, a smaller $dt$ forces $N$ to be large in order to maintain $T$  within a reasonable range, thus increasing the computational cost, and hence, latency in a real-world scenario. In the current project, a range of values work fine: \n",
    "$dt$ between $0.05$ and $0.15$, $N$ between $6$ and $24$, subject to $T$ between $0.8$ and $1.2$.\n",
    "\n",
    "#### Latency\n",
    "A straigtforward way to deal with a latency of $0.1$ is to estimate the state post latency from the current state and the current actuators using the kinematic model described earlier. This estimated state post latency is then taken to be the initial state from where all further processing is done.\n",
    "\n",
    "#### Polynomial Fitting and MPC Preprocessing\n",
    "After estimating the car's state post latency, the coordinate frame is then shifted to that of the car in this state. In particular, this implies that the post latency $(px, py, \\psi)$ is $(0, 0, 0)$ in the new coordinate system. The waypoints for the reference trajectory given by the simulator are also transformed to the new coordinate system, and the reference trajectory is approximated by a 3rd degree polynomial. After computing $cte$ and $e\\psi$, a vector consisting of these two error terms and the car's state is fed to the MPC optimizer, which returns the optimal actuators for the post latency state of the car."
   ]
  }
 ],
 "metadata": {
  "kernelspec": {
   "display_name": "Python 3",
   "language": "python",
   "name": "python3"
  },
  "language_info": {
   "codemirror_mode": {
    "name": "ipython",
    "version": 3
   },
   "file_extension": ".py",
   "mimetype": "text/x-python",
   "name": "python",
   "nbconvert_exporter": "python",
   "pygments_lexer": "ipython3",
   "version": "3.6.3"
  }
 },
 "nbformat": 4,
 "nbformat_minor": 2
}
